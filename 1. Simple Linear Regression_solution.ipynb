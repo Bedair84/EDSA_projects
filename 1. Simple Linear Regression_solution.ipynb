{
 "cells": [
  {
   "cell_type": "markdown",
   "id": "4f19f18f",
   "metadata": {},
   "source": [
    "# Simple Linear Regression (Gapminder Project)\n",
    "\n",
    "In this project you are going to work with __gapminder__ dataset, which tracks economic and social indicators like population, life expectancy and the GDP per capita of countries over time. For more information about Gapminder, visit the this [link](https://www.gapminder.org/data/)\n",
    "\n",
    "This is a guided project, which I will guide you through to proceed with this small project. I believe this method will prepare you for your own future projects.\n",
    "\n",
    "In order to do this project, you may need to refer to this [tutorial](https://github.com/DrSaadLa/PythonTuts/blob/main/ML%20with%20Python/02.01.%20Linear%20Regression%20with%20Python%20(Part%2001)%20Solution.ipynb)"
   ]
  },
  {
   "cell_type": "markdown",
   "id": "4c8bab5c",
   "metadata": {},
   "source": [
    "### Import Necessary Modules\n",
    "1. import pandas\n",
    "2. import numpy \n",
    "3. import seaborn\n",
    "4. import matplotlib.pyplot"
   ]
  },
  {
   "cell_type": "code",
   "execution_count": 1,
   "id": "e7069e6b",
   "metadata": {},
   "outputs": [],
   "source": [
    "import pandas as pd\n",
    "import numpy as np\n",
    "import seaborn as sns\n",
    "import matplotlib.pyplot as plt"
   ]
  },
  {
   "cell_type": "markdown",
   "id": "a4f78b6e",
   "metadata": {},
   "source": [
    "### Import the dataset\n",
    "\n",
    "the dataset can be downloaded from [here](https://raw.githubusercontent.com/DrSaadLa/PythonTuts/main/Data/gapminder.csv). \n"
   ]
  },
  {
   "cell_type": "code",
   "execution_count": 2,
   "id": "9050107b",
   "metadata": {},
   "outputs": [],
   "source": [
    "# Here is the url provided for you\n",
    "url = \"https://raw.githubusercontent.com/DrSaadLa/PythonTuts/main/Data/gapminder.csv\""
   ]
  },
  {
   "cell_type": "code",
   "execution_count": 3,
   "id": "a603628c",
   "metadata": {},
   "outputs": [],
   "source": [
    "# use pd.read_csv() to import the data\n",
    "data=pd.read_csv(url)"
   ]
  },
  {
   "cell_type": "code",
   "execution_count": 4,
   "id": "a434dce8",
   "metadata": {},
   "outputs": [
    {
     "data": {
      "text/html": [
       "<div>\n",
       "<style scoped>\n",
       "    .dataframe tbody tr th:only-of-type {\n",
       "        vertical-align: middle;\n",
       "    }\n",
       "\n",
       "    .dataframe tbody tr th {\n",
       "        vertical-align: top;\n",
       "    }\n",
       "\n",
       "    .dataframe thead th {\n",
       "        text-align: right;\n",
       "    }\n",
       "</style>\n",
       "<table border=\"1\" class=\"dataframe\">\n",
       "  <thead>\n",
       "    <tr style=\"text-align: right;\">\n",
       "      <th></th>\n",
       "      <th>population</th>\n",
       "      <th>fertility</th>\n",
       "      <th>HIV</th>\n",
       "      <th>CO2</th>\n",
       "      <th>BMI_male</th>\n",
       "      <th>GDP</th>\n",
       "      <th>BMI_female</th>\n",
       "      <th>life</th>\n",
       "      <th>child_mortality</th>\n",
       "      <th>Region</th>\n",
       "    </tr>\n",
       "  </thead>\n",
       "  <tbody>\n",
       "    <tr>\n",
       "      <th>0</th>\n",
       "      <td>34811059.0</td>\n",
       "      <td>2.73</td>\n",
       "      <td>0.10</td>\n",
       "      <td>3.328945</td>\n",
       "      <td>24.59620</td>\n",
       "      <td>12314.0</td>\n",
       "      <td>129.9049</td>\n",
       "      <td>75.3</td>\n",
       "      <td>29.5</td>\n",
       "      <td>Middle East &amp; North Africa</td>\n",
       "    </tr>\n",
       "    <tr>\n",
       "      <th>1</th>\n",
       "      <td>19842251.0</td>\n",
       "      <td>6.43</td>\n",
       "      <td>2.00</td>\n",
       "      <td>1.474353</td>\n",
       "      <td>22.25083</td>\n",
       "      <td>7103.0</td>\n",
       "      <td>130.1247</td>\n",
       "      <td>58.3</td>\n",
       "      <td>192.0</td>\n",
       "      <td>Sub-Saharan Africa</td>\n",
       "    </tr>\n",
       "    <tr>\n",
       "      <th>2</th>\n",
       "      <td>40381860.0</td>\n",
       "      <td>2.24</td>\n",
       "      <td>0.50</td>\n",
       "      <td>4.785170</td>\n",
       "      <td>27.50170</td>\n",
       "      <td>14646.0</td>\n",
       "      <td>118.8915</td>\n",
       "      <td>75.5</td>\n",
       "      <td>15.4</td>\n",
       "      <td>America</td>\n",
       "    </tr>\n",
       "    <tr>\n",
       "      <th>3</th>\n",
       "      <td>2975029.0</td>\n",
       "      <td>1.40</td>\n",
       "      <td>0.10</td>\n",
       "      <td>1.804106</td>\n",
       "      <td>25.35542</td>\n",
       "      <td>7383.0</td>\n",
       "      <td>132.8108</td>\n",
       "      <td>72.5</td>\n",
       "      <td>20.0</td>\n",
       "      <td>Europe &amp; Central Asia</td>\n",
       "    </tr>\n",
       "    <tr>\n",
       "      <th>4</th>\n",
       "      <td>21370348.0</td>\n",
       "      <td>1.96</td>\n",
       "      <td>0.10</td>\n",
       "      <td>18.016313</td>\n",
       "      <td>27.56373</td>\n",
       "      <td>41312.0</td>\n",
       "      <td>117.3755</td>\n",
       "      <td>81.5</td>\n",
       "      <td>5.2</td>\n",
       "      <td>East Asia &amp; Pacific</td>\n",
       "    </tr>\n",
       "    <tr>\n",
       "      <th>5</th>\n",
       "      <td>8331465.0</td>\n",
       "      <td>1.41</td>\n",
       "      <td>0.30</td>\n",
       "      <td>8.183160</td>\n",
       "      <td>26.46741</td>\n",
       "      <td>43952.0</td>\n",
       "      <td>124.1394</td>\n",
       "      <td>80.4</td>\n",
       "      <td>4.6</td>\n",
       "      <td>Europe &amp; Central Asia</td>\n",
       "    </tr>\n",
       "    <tr>\n",
       "      <th>6</th>\n",
       "      <td>8868713.0</td>\n",
       "      <td>1.99</td>\n",
       "      <td>0.10</td>\n",
       "      <td>5.109538</td>\n",
       "      <td>25.65117</td>\n",
       "      <td>14365.0</td>\n",
       "      <td>128.6024</td>\n",
       "      <td>70.6</td>\n",
       "      <td>43.3</td>\n",
       "      <td>Europe &amp; Central Asia</td>\n",
       "    </tr>\n",
       "    <tr>\n",
       "      <th>7</th>\n",
       "      <td>348587.0</td>\n",
       "      <td>1.89</td>\n",
       "      <td>3.10</td>\n",
       "      <td>3.131921</td>\n",
       "      <td>27.24594</td>\n",
       "      <td>24373.0</td>\n",
       "      <td>124.3862</td>\n",
       "      <td>72.2</td>\n",
       "      <td>14.5</td>\n",
       "      <td>America</td>\n",
       "    </tr>\n",
       "    <tr>\n",
       "      <th>8</th>\n",
       "      <td>148252473.0</td>\n",
       "      <td>2.38</td>\n",
       "      <td>0.06</td>\n",
       "      <td>0.319161</td>\n",
       "      <td>20.39742</td>\n",
       "      <td>2265.0</td>\n",
       "      <td>125.0307</td>\n",
       "      <td>68.4</td>\n",
       "      <td>55.9</td>\n",
       "      <td>South Asia</td>\n",
       "    </tr>\n",
       "    <tr>\n",
       "      <th>9</th>\n",
       "      <td>277315.0</td>\n",
       "      <td>1.83</td>\n",
       "      <td>1.30</td>\n",
       "      <td>6.008279</td>\n",
       "      <td>26.38439</td>\n",
       "      <td>16075.0</td>\n",
       "      <td>126.3940</td>\n",
       "      <td>75.3</td>\n",
       "      <td>15.4</td>\n",
       "      <td>America</td>\n",
       "    </tr>\n",
       "  </tbody>\n",
       "</table>\n",
       "</div>"
      ],
      "text/plain": [
       "    population  fertility   HIV        CO2  BMI_male      GDP  BMI_female  \\\n",
       "0   34811059.0       2.73  0.10   3.328945  24.59620  12314.0    129.9049   \n",
       "1   19842251.0       6.43  2.00   1.474353  22.25083   7103.0    130.1247   \n",
       "2   40381860.0       2.24  0.50   4.785170  27.50170  14646.0    118.8915   \n",
       "3    2975029.0       1.40  0.10   1.804106  25.35542   7383.0    132.8108   \n",
       "4   21370348.0       1.96  0.10  18.016313  27.56373  41312.0    117.3755   \n",
       "5    8331465.0       1.41  0.30   8.183160  26.46741  43952.0    124.1394   \n",
       "6    8868713.0       1.99  0.10   5.109538  25.65117  14365.0    128.6024   \n",
       "7     348587.0       1.89  3.10   3.131921  27.24594  24373.0    124.3862   \n",
       "8  148252473.0       2.38  0.06   0.319161  20.39742   2265.0    125.0307   \n",
       "9     277315.0       1.83  1.30   6.008279  26.38439  16075.0    126.3940   \n",
       "\n",
       "   life  child_mortality                      Region  \n",
       "0  75.3             29.5  Middle East & North Africa  \n",
       "1  58.3            192.0          Sub-Saharan Africa  \n",
       "2  75.5             15.4                     America  \n",
       "3  72.5             20.0       Europe & Central Asia  \n",
       "4  81.5              5.2         East Asia & Pacific  \n",
       "5  80.4              4.6       Europe & Central Asia  \n",
       "6  70.6             43.3       Europe & Central Asia  \n",
       "7  72.2             14.5                     America  \n",
       "8  68.4             55.9                  South Asia  \n",
       "9  75.3             15.4                     America  "
      ]
     },
     "execution_count": 4,
     "metadata": {},
     "output_type": "execute_result"
    }
   ],
   "source": [
    "# Check the first few obs\n",
    "data.head(10)"
   ]
  },
  {
   "cell_type": "code",
   "execution_count": 5,
   "id": "3033f465",
   "metadata": {},
   "outputs": [
    {
     "data": {
      "text/html": [
       "<div>\n",
       "<style scoped>\n",
       "    .dataframe tbody tr th:only-of-type {\n",
       "        vertical-align: middle;\n",
       "    }\n",
       "\n",
       "    .dataframe tbody tr th {\n",
       "        vertical-align: top;\n",
       "    }\n",
       "\n",
       "    .dataframe thead th {\n",
       "        text-align: right;\n",
       "    }\n",
       "</style>\n",
       "<table border=\"1\" class=\"dataframe\">\n",
       "  <thead>\n",
       "    <tr style=\"text-align: right;\">\n",
       "      <th></th>\n",
       "      <th>population</th>\n",
       "      <th>fertility</th>\n",
       "      <th>HIV</th>\n",
       "      <th>CO2</th>\n",
       "      <th>BMI_male</th>\n",
       "      <th>GDP</th>\n",
       "      <th>BMI_female</th>\n",
       "      <th>life</th>\n",
       "      <th>child_mortality</th>\n",
       "      <th>Region</th>\n",
       "    </tr>\n",
       "  </thead>\n",
       "  <tbody>\n",
       "    <tr>\n",
       "      <th>129</th>\n",
       "      <td>70344357.0</td>\n",
       "      <td>2.15</td>\n",
       "      <td>0.06</td>\n",
       "      <td>4.021903</td>\n",
       "      <td>26.70371</td>\n",
       "      <td>16454.0</td>\n",
       "      <td>124.0675</td>\n",
       "      <td>75.1</td>\n",
       "      <td>22.2</td>\n",
       "      <td>Europe &amp; Central Asia</td>\n",
       "    </tr>\n",
       "    <tr>\n",
       "      <th>130</th>\n",
       "      <td>31014427.0</td>\n",
       "      <td>6.34</td>\n",
       "      <td>6.40</td>\n",
       "      <td>0.100853</td>\n",
       "      <td>22.35833</td>\n",
       "      <td>1437.0</td>\n",
       "      <td>134.5204</td>\n",
       "      <td>57.2</td>\n",
       "      <td>89.3</td>\n",
       "      <td>Sub-Saharan Africa</td>\n",
       "    </tr>\n",
       "    <tr>\n",
       "      <th>131</th>\n",
       "      <td>46028476.0</td>\n",
       "      <td>1.38</td>\n",
       "      <td>1.10</td>\n",
       "      <td>7.032359</td>\n",
       "      <td>25.42379</td>\n",
       "      <td>8762.0</td>\n",
       "      <td>131.4962</td>\n",
       "      <td>68.2</td>\n",
       "      <td>12.9</td>\n",
       "      <td>Europe &amp; Central Asia</td>\n",
       "    </tr>\n",
       "    <tr>\n",
       "      <th>132</th>\n",
       "      <td>61689620.0</td>\n",
       "      <td>1.87</td>\n",
       "      <td>0.20</td>\n",
       "      <td>8.526467</td>\n",
       "      <td>27.39249</td>\n",
       "      <td>37739.0</td>\n",
       "      <td>124.0845</td>\n",
       "      <td>79.5</td>\n",
       "      <td>5.6</td>\n",
       "      <td>Europe &amp; Central Asia</td>\n",
       "    </tr>\n",
       "    <tr>\n",
       "      <th>133</th>\n",
       "      <td>304473143.0</td>\n",
       "      <td>2.07</td>\n",
       "      <td>0.60</td>\n",
       "      <td>18.545992</td>\n",
       "      <td>28.45698</td>\n",
       "      <td>50384.0</td>\n",
       "      <td>118.4777</td>\n",
       "      <td>78.2</td>\n",
       "      <td>7.7</td>\n",
       "      <td>America</td>\n",
       "    </tr>\n",
       "    <tr>\n",
       "      <th>134</th>\n",
       "      <td>3350832.0</td>\n",
       "      <td>2.11</td>\n",
       "      <td>0.50</td>\n",
       "      <td>2.489764</td>\n",
       "      <td>26.39123</td>\n",
       "      <td>15317.0</td>\n",
       "      <td>124.2604</td>\n",
       "      <td>76.0</td>\n",
       "      <td>13.0</td>\n",
       "      <td>America</td>\n",
       "    </tr>\n",
       "    <tr>\n",
       "      <th>135</th>\n",
       "      <td>26952719.0</td>\n",
       "      <td>2.46</td>\n",
       "      <td>0.10</td>\n",
       "      <td>4.476669</td>\n",
       "      <td>25.32054</td>\n",
       "      <td>3733.0</td>\n",
       "      <td>124.3462</td>\n",
       "      <td>68.7</td>\n",
       "      <td>49.2</td>\n",
       "      <td>Europe &amp; Central Asia</td>\n",
       "    </tr>\n",
       "    <tr>\n",
       "      <th>136</th>\n",
       "      <td>86589342.0</td>\n",
       "      <td>1.86</td>\n",
       "      <td>0.40</td>\n",
       "      <td>1.479347</td>\n",
       "      <td>20.91630</td>\n",
       "      <td>4085.0</td>\n",
       "      <td>121.9367</td>\n",
       "      <td>75.4</td>\n",
       "      <td>26.2</td>\n",
       "      <td>East Asia &amp; Pacific</td>\n",
       "    </tr>\n",
       "    <tr>\n",
       "      <th>137</th>\n",
       "      <td>13114579.0</td>\n",
       "      <td>5.88</td>\n",
       "      <td>13.60</td>\n",
       "      <td>0.148982</td>\n",
       "      <td>20.68321</td>\n",
       "      <td>3039.0</td>\n",
       "      <td>132.4493</td>\n",
       "      <td>52.0</td>\n",
       "      <td>94.9</td>\n",
       "      <td>Sub-Saharan Africa</td>\n",
       "    </tr>\n",
       "    <tr>\n",
       "      <th>138</th>\n",
       "      <td>13495462.0</td>\n",
       "      <td>3.85</td>\n",
       "      <td>15.10</td>\n",
       "      <td>0.654323</td>\n",
       "      <td>22.02660</td>\n",
       "      <td>1286.0</td>\n",
       "      <td>131.9745</td>\n",
       "      <td>49.0</td>\n",
       "      <td>98.3</td>\n",
       "      <td>Sub-Saharan Africa</td>\n",
       "    </tr>\n",
       "  </tbody>\n",
       "</table>\n",
       "</div>"
      ],
      "text/plain": [
       "      population  fertility    HIV        CO2  BMI_male      GDP  BMI_female  \\\n",
       "129   70344357.0       2.15   0.06   4.021903  26.70371  16454.0    124.0675   \n",
       "130   31014427.0       6.34   6.40   0.100853  22.35833   1437.0    134.5204   \n",
       "131   46028476.0       1.38   1.10   7.032359  25.42379   8762.0    131.4962   \n",
       "132   61689620.0       1.87   0.20   8.526467  27.39249  37739.0    124.0845   \n",
       "133  304473143.0       2.07   0.60  18.545992  28.45698  50384.0    118.4777   \n",
       "134    3350832.0       2.11   0.50   2.489764  26.39123  15317.0    124.2604   \n",
       "135   26952719.0       2.46   0.10   4.476669  25.32054   3733.0    124.3462   \n",
       "136   86589342.0       1.86   0.40   1.479347  20.91630   4085.0    121.9367   \n",
       "137   13114579.0       5.88  13.60   0.148982  20.68321   3039.0    132.4493   \n",
       "138   13495462.0       3.85  15.10   0.654323  22.02660   1286.0    131.9745   \n",
       "\n",
       "     life  child_mortality                 Region  \n",
       "129  75.1             22.2  Europe & Central Asia  \n",
       "130  57.2             89.3     Sub-Saharan Africa  \n",
       "131  68.2             12.9  Europe & Central Asia  \n",
       "132  79.5              5.6  Europe & Central Asia  \n",
       "133  78.2              7.7                America  \n",
       "134  76.0             13.0                America  \n",
       "135  68.7             49.2  Europe & Central Asia  \n",
       "136  75.4             26.2    East Asia & Pacific  \n",
       "137  52.0             94.9     Sub-Saharan Africa  \n",
       "138  49.0             98.3     Sub-Saharan Africa  "
      ]
     },
     "execution_count": 5,
     "metadata": {},
     "output_type": "execute_result"
    }
   ],
   "source": [
    "# Check the last few obs\n",
    "data.tail(10)"
   ]
  },
  {
   "cell_type": "code",
   "execution_count": 6,
   "id": "a0eea341",
   "metadata": {},
   "outputs": [
    {
     "name": "stdout",
     "output_type": "stream",
     "text": [
      "<class 'pandas.core.frame.DataFrame'>\n",
      "RangeIndex: 139 entries, 0 to 138\n",
      "Data columns (total 10 columns):\n",
      " #   Column           Non-Null Count  Dtype  \n",
      "---  ------           --------------  -----  \n",
      " 0   population       139 non-null    float64\n",
      " 1   fertility        139 non-null    float64\n",
      " 2   HIV              139 non-null    float64\n",
      " 3   CO2              139 non-null    float64\n",
      " 4   BMI_male         139 non-null    float64\n",
      " 5   GDP              139 non-null    float64\n",
      " 6   BMI_female       139 non-null    float64\n",
      " 7   life             139 non-null    float64\n",
      " 8   child_mortality  139 non-null    float64\n",
      " 9   Region           139 non-null    object \n",
      "dtypes: float64(9), object(1)\n",
      "memory usage: 11.0+ KB\n"
     ]
    }
   ],
   "source": [
    "# check the data information\n",
    "data.info()"
   ]
  },
  {
   "cell_type": "code",
   "execution_count": 7,
   "id": "2e411e19",
   "metadata": {},
   "outputs": [
    {
     "data": {
      "text/html": [
       "<div>\n",
       "<style scoped>\n",
       "    .dataframe tbody tr th:only-of-type {\n",
       "        vertical-align: middle;\n",
       "    }\n",
       "\n",
       "    .dataframe tbody tr th {\n",
       "        vertical-align: top;\n",
       "    }\n",
       "\n",
       "    .dataframe thead th {\n",
       "        text-align: right;\n",
       "    }\n",
       "</style>\n",
       "<table border=\"1\" class=\"dataframe\">\n",
       "  <thead>\n",
       "    <tr style=\"text-align: right;\">\n",
       "      <th></th>\n",
       "      <th>count</th>\n",
       "      <th>mean</th>\n",
       "      <th>std</th>\n",
       "      <th>min</th>\n",
       "      <th>25%</th>\n",
       "      <th>50%</th>\n",
       "      <th>75%</th>\n",
       "      <th>max</th>\n",
       "    </tr>\n",
       "  </thead>\n",
       "  <tbody>\n",
       "    <tr>\n",
       "      <th>population</th>\n",
       "      <td>139.0</td>\n",
       "      <td>3.549977e+07</td>\n",
       "      <td>1.095121e+08</td>\n",
       "      <td>277315.000000</td>\n",
       "      <td>3.752776e+06</td>\n",
       "      <td>9.705130e+06</td>\n",
       "      <td>2.791973e+07</td>\n",
       "      <td>1.197070e+09</td>\n",
       "    </tr>\n",
       "    <tr>\n",
       "      <th>fertility</th>\n",
       "      <td>139.0</td>\n",
       "      <td>3.005108e+00</td>\n",
       "      <td>1.615354e+00</td>\n",
       "      <td>1.280000</td>\n",
       "      <td>1.810000e+00</td>\n",
       "      <td>2.410000e+00</td>\n",
       "      <td>4.095000e+00</td>\n",
       "      <td>7.590000e+00</td>\n",
       "    </tr>\n",
       "    <tr>\n",
       "      <th>HIV</th>\n",
       "      <td>139.0</td>\n",
       "      <td>1.915612e+00</td>\n",
       "      <td>4.408974e+00</td>\n",
       "      <td>0.060000</td>\n",
       "      <td>1.000000e-01</td>\n",
       "      <td>4.000000e-01</td>\n",
       "      <td>1.300000e+00</td>\n",
       "      <td>2.590000e+01</td>\n",
       "    </tr>\n",
       "    <tr>\n",
       "      <th>CO2</th>\n",
       "      <td>139.0</td>\n",
       "      <td>4.459874e+00</td>\n",
       "      <td>6.268349e+00</td>\n",
       "      <td>0.008618</td>\n",
       "      <td>4.961900e-01</td>\n",
       "      <td>2.223796e+00</td>\n",
       "      <td>6.589156e+00</td>\n",
       "      <td>4.870206e+01</td>\n",
       "    </tr>\n",
       "    <tr>\n",
       "      <th>BMI_male</th>\n",
       "      <td>139.0</td>\n",
       "      <td>2.462305e+01</td>\n",
       "      <td>2.209368e+00</td>\n",
       "      <td>20.397420</td>\n",
       "      <td>2.244814e+01</td>\n",
       "      <td>2.515699e+01</td>\n",
       "      <td>2.649757e+01</td>\n",
       "      <td>2.845698e+01</td>\n",
       "    </tr>\n",
       "    <tr>\n",
       "      <th>GDP</th>\n",
       "      <td>139.0</td>\n",
       "      <td>1.663878e+04</td>\n",
       "      <td>1.920730e+04</td>\n",
       "      <td>588.000000</td>\n",
       "      <td>2.899000e+03</td>\n",
       "      <td>9.938000e+03</td>\n",
       "      <td>2.327850e+04</td>\n",
       "      <td>1.260760e+05</td>\n",
       "    </tr>\n",
       "    <tr>\n",
       "      <th>BMI_female</th>\n",
       "      <td>139.0</td>\n",
       "      <td>1.267019e+02</td>\n",
       "      <td>4.471997e+00</td>\n",
       "      <td>117.375500</td>\n",
       "      <td>1.232322e+02</td>\n",
       "      <td>1.265196e+02</td>\n",
       "      <td>1.302759e+02</td>\n",
       "      <td>1.354920e+02</td>\n",
       "    </tr>\n",
       "    <tr>\n",
       "      <th>life</th>\n",
       "      <td>139.0</td>\n",
       "      <td>6.960288e+01</td>\n",
       "      <td>9.122189e+00</td>\n",
       "      <td>45.200000</td>\n",
       "      <td>6.220000e+01</td>\n",
       "      <td>7.200000e+01</td>\n",
       "      <td>7.685000e+01</td>\n",
       "      <td>8.260000e+01</td>\n",
       "    </tr>\n",
       "    <tr>\n",
       "      <th>child_mortality</th>\n",
       "      <td>139.0</td>\n",
       "      <td>4.509712e+01</td>\n",
       "      <td>4.572467e+01</td>\n",
       "      <td>2.700000</td>\n",
       "      <td>8.100000e+00</td>\n",
       "      <td>2.400000e+01</td>\n",
       "      <td>7.420000e+01</td>\n",
       "      <td>1.920000e+02</td>\n",
       "    </tr>\n",
       "  </tbody>\n",
       "</table>\n",
       "</div>"
      ],
      "text/plain": [
       "                 count          mean           std            min  \\\n",
       "population       139.0  3.549977e+07  1.095121e+08  277315.000000   \n",
       "fertility        139.0  3.005108e+00  1.615354e+00       1.280000   \n",
       "HIV              139.0  1.915612e+00  4.408974e+00       0.060000   \n",
       "CO2              139.0  4.459874e+00  6.268349e+00       0.008618   \n",
       "BMI_male         139.0  2.462305e+01  2.209368e+00      20.397420   \n",
       "GDP              139.0  1.663878e+04  1.920730e+04     588.000000   \n",
       "BMI_female       139.0  1.267019e+02  4.471997e+00     117.375500   \n",
       "life             139.0  6.960288e+01  9.122189e+00      45.200000   \n",
       "child_mortality  139.0  4.509712e+01  4.572467e+01       2.700000   \n",
       "\n",
       "                          25%           50%           75%           max  \n",
       "population       3.752776e+06  9.705130e+06  2.791973e+07  1.197070e+09  \n",
       "fertility        1.810000e+00  2.410000e+00  4.095000e+00  7.590000e+00  \n",
       "HIV              1.000000e-01  4.000000e-01  1.300000e+00  2.590000e+01  \n",
       "CO2              4.961900e-01  2.223796e+00  6.589156e+00  4.870206e+01  \n",
       "BMI_male         2.244814e+01  2.515699e+01  2.649757e+01  2.845698e+01  \n",
       "GDP              2.899000e+03  9.938000e+03  2.327850e+04  1.260760e+05  \n",
       "BMI_female       1.232322e+02  1.265196e+02  1.302759e+02  1.354920e+02  \n",
       "life             6.220000e+01  7.200000e+01  7.685000e+01  8.260000e+01  \n",
       "child_mortality  8.100000e+00  2.400000e+01  7.420000e+01  1.920000e+02  "
      ]
     },
     "execution_count": 7,
     "metadata": {},
     "output_type": "execute_result"
    }
   ],
   "source": [
    "# Run desriptive statistics\n",
    "data.describe()\n",
    "data.describe().T"
   ]
  },
  {
   "cell_type": "markdown",
   "id": "a4d2388a",
   "metadata": {},
   "source": [
    "## Select Target and Feature Variable\n",
    "\n",
    "This is a simple linear regression, so we are going to use only two variables. Suppose you wish to predict life expectancy in a given country using one variable such as GDP, fertility rate, or population. \n",
    "\n",
    "Before selecting the condidate input variable, we will plot a heatmap on the correlation matrix of dataset, then we select to highly correlated variable with the target, which will be __life__\n",
    "\n",
    "### This section is done for you. "
   ]
  },
  {
   "cell_type": "code",
   "execution_count": 8,
   "id": "bf44489f",
   "metadata": {},
   "outputs": [
    {
     "data": {
      "text/plain": [
       "<AxesSubplot:>"
      ]
     },
     "execution_count": 8,
     "metadata": {},
     "output_type": "execute_result"
    },
    {
     "data": {
      "image/png": "[encoded data removed]",
      "text/plain": [
       "<Figure size 720x576 with 2 Axes>"
      ]
     },
     "metadata": {},
     "output_type": "display_data"
    }
   ],
   "source": [
    "# Setting the figure size \n",
    "sns.set(rc={'figure.figsize':(10,8)})\n",
    "sns.heatmap(data.corr(), cmap='RdYlBu', square=True)"
   ]
  },
  {
   "cell_type": "markdown",
   "id": "a4791aad",
   "metadata": {},
   "source": [
    "From the headmap, the highly negatively correlated variable is __fertility__, which the one you are going to use to build your model. So:\n",
    "\n",
    "Target is: __life__\n",
    "\n",
    "Input is: __fertility__"
   ]
  },
  {
   "cell_type": "code",
   "execution_count": 9,
   "id": "185ba741",
   "metadata": {},
   "outputs": [
    {
     "data": {
      "text/html": [
       "<div>\n",
       "<style scoped>\n",
       "    .dataframe tbody tr th:only-of-type {\n",
       "        vertical-align: middle;\n",
       "    }\n",
       "\n",
       "    .dataframe tbody tr th {\n",
       "        vertical-align: top;\n",
       "    }\n",
       "\n",
       "    .dataframe thead th {\n",
       "        text-align: right;\n",
       "    }\n",
       "</style>\n",
       "<table border=\"1\" class=\"dataframe\">\n",
       "  <thead>\n",
       "    <tr style=\"text-align: right;\">\n",
       "      <th></th>\n",
       "      <th>population</th>\n",
       "      <th>fertility</th>\n",
       "      <th>HIV</th>\n",
       "      <th>CO2</th>\n",
       "      <th>BMI_male</th>\n",
       "      <th>GDP</th>\n",
       "      <th>BMI_female</th>\n",
       "      <th>y</th>\n",
       "      <th>child_mortality</th>\n",
       "      <th>Region</th>\n",
       "    </tr>\n",
       "  </thead>\n",
       "  <tbody>\n",
       "    <tr>\n",
       "      <th>0</th>\n",
       "      <td>34811059.0</td>\n",
       "      <td>2.73</td>\n",
       "      <td>0.1</td>\n",
       "      <td>3.328945</td>\n",
       "      <td>24.59620</td>\n",
       "      <td>12314.0</td>\n",
       "      <td>129.9049</td>\n",
       "      <td>75.3</td>\n",
       "      <td>29.5</td>\n",
       "      <td>Middle East &amp; North Africa</td>\n",
       "    </tr>\n",
       "    <tr>\n",
       "      <th>1</th>\n",
       "      <td>19842251.0</td>\n",
       "      <td>6.43</td>\n",
       "      <td>2.0</td>\n",
       "      <td>1.474353</td>\n",
       "      <td>22.25083</td>\n",
       "      <td>7103.0</td>\n",
       "      <td>130.1247</td>\n",
       "      <td>58.3</td>\n",
       "      <td>192.0</td>\n",
       "      <td>Sub-Saharan Africa</td>\n",
       "    </tr>\n",
       "    <tr>\n",
       "      <th>2</th>\n",
       "      <td>40381860.0</td>\n",
       "      <td>2.24</td>\n",
       "      <td>0.5</td>\n",
       "      <td>4.785170</td>\n",
       "      <td>27.50170</td>\n",
       "      <td>14646.0</td>\n",
       "      <td>118.8915</td>\n",
       "      <td>75.5</td>\n",
       "      <td>15.4</td>\n",
       "      <td>America</td>\n",
       "    </tr>\n",
       "    <tr>\n",
       "      <th>3</th>\n",
       "      <td>2975029.0</td>\n",
       "      <td>1.40</td>\n",
       "      <td>0.1</td>\n",
       "      <td>1.804106</td>\n",
       "      <td>25.35542</td>\n",
       "      <td>7383.0</td>\n",
       "      <td>132.8108</td>\n",
       "      <td>72.5</td>\n",
       "      <td>20.0</td>\n",
       "      <td>Europe &amp; Central Asia</td>\n",
       "    </tr>\n",
       "    <tr>\n",
       "      <th>4</th>\n",
       "      <td>21370348.0</td>\n",
       "      <td>1.96</td>\n",
       "      <td>0.1</td>\n",
       "      <td>18.016313</td>\n",
       "      <td>27.56373</td>\n",
       "      <td>41312.0</td>\n",
       "      <td>117.3755</td>\n",
       "      <td>81.5</td>\n",
       "      <td>5.2</td>\n",
       "      <td>East Asia &amp; Pacific</td>\n",
       "    </tr>\n",
       "    <tr>\n",
       "      <th>...</th>\n",
       "      <td>...</td>\n",
       "      <td>...</td>\n",
       "      <td>...</td>\n",
       "      <td>...</td>\n",
       "      <td>...</td>\n",
       "      <td>...</td>\n",
       "      <td>...</td>\n",
       "      <td>...</td>\n",
       "      <td>...</td>\n",
       "      <td>...</td>\n",
       "    </tr>\n",
       "    <tr>\n",
       "      <th>134</th>\n",
       "      <td>3350832.0</td>\n",
       "      <td>2.11</td>\n",
       "      <td>0.5</td>\n",
       "      <td>2.489764</td>\n",
       "      <td>26.39123</td>\n",
       "      <td>15317.0</td>\n",
       "      <td>124.2604</td>\n",
       "      <td>76.0</td>\n",
       "      <td>13.0</td>\n",
       "      <td>America</td>\n",
       "    </tr>\n",
       "    <tr>\n",
       "      <th>135</th>\n",
       "      <td>26952719.0</td>\n",
       "      <td>2.46</td>\n",
       "      <td>0.1</td>\n",
       "      <td>4.476669</td>\n",
       "      <td>25.32054</td>\n",
       "      <td>3733.0</td>\n",
       "      <td>124.3462</td>\n",
       "      <td>68.7</td>\n",
       "      <td>49.2</td>\n",
       "      <td>Europe &amp; Central Asia</td>\n",
       "    </tr>\n",
       "    <tr>\n",
       "      <th>136</th>\n",
       "      <td>86589342.0</td>\n",
       "      <td>1.86</td>\n",
       "      <td>0.4</td>\n",
       "      <td>1.479347</td>\n",
       "      <td>20.91630</td>\n",
       "      <td>4085.0</td>\n",
       "      <td>121.9367</td>\n",
       "      <td>75.4</td>\n",
       "      <td>26.2</td>\n",
       "      <td>East Asia &amp; Pacific</td>\n",
       "    </tr>\n",
       "    <tr>\n",
       "      <th>137</th>\n",
       "      <td>13114579.0</td>\n",
       "      <td>5.88</td>\n",
       "      <td>13.6</td>\n",
       "      <td>0.148982</td>\n",
       "      <td>20.68321</td>\n",
       "      <td>3039.0</td>\n",
       "      <td>132.4493</td>\n",
       "      <td>52.0</td>\n",
       "      <td>94.9</td>\n",
       "      <td>Sub-Saharan Africa</td>\n",
       "    </tr>\n",
       "    <tr>\n",
       "      <th>138</th>\n",
       "      <td>13495462.0</td>\n",
       "      <td>3.85</td>\n",
       "      <td>15.1</td>\n",
       "      <td>0.654323</td>\n",
       "      <td>22.02660</td>\n",
       "      <td>1286.0</td>\n",
       "      <td>131.9745</td>\n",
       "      <td>49.0</td>\n",
       "      <td>98.3</td>\n",
       "      <td>Sub-Saharan Africa</td>\n",
       "    </tr>\n",
       "  </tbody>\n",
       "</table>\n",
       "<p>139 rows × 10 columns</p>\n",
       "</div>"
      ],
      "text/plain": [
       "     population  fertility   HIV        CO2  BMI_male      GDP  BMI_female  \\\n",
       "0    34811059.0       2.73   0.1   3.328945  24.59620  12314.0    129.9049   \n",
       "1    19842251.0       6.43   2.0   1.474353  22.25083   7103.0    130.1247   \n",
       "2    40381860.0       2.24   0.5   4.785170  27.50170  14646.0    118.8915   \n",
       "3     2975029.0       1.40   0.1   1.804106  25.35542   7383.0    132.8108   \n",
       "4    21370348.0       1.96   0.1  18.016313  27.56373  41312.0    117.3755   \n",
       "..          ...        ...   ...        ...       ...      ...         ...   \n",
       "134   3350832.0       2.11   0.5   2.489764  26.39123  15317.0    124.2604   \n",
       "135  26952719.0       2.46   0.1   4.476669  25.32054   3733.0    124.3462   \n",
       "136  86589342.0       1.86   0.4   1.479347  20.91630   4085.0    121.9367   \n",
       "137  13114579.0       5.88  13.6   0.148982  20.68321   3039.0    132.4493   \n",
       "138  13495462.0       3.85  15.1   0.654323  22.02660   1286.0    131.9745   \n",
       "\n",
       "        y  child_mortality                      Region  \n",
       "0    75.3             29.5  Middle East & North Africa  \n",
       "1    58.3            192.0          Sub-Saharan Africa  \n",
       "2    75.5             15.4                     America  \n",
       "3    72.5             20.0       Europe & Central Asia  \n",
       "4    81.5              5.2         East Asia & Pacific  \n",
       "..    ...              ...                         ...  \n",
       "134  76.0             13.0                     America  \n",
       "135  68.7             49.2       Europe & Central Asia  \n",
       "136  75.4             26.2         East Asia & Pacific  \n",
       "137  52.0             94.9          Sub-Saharan Africa  \n",
       "138  49.0             98.3          Sub-Saharan Africa  \n",
       "\n",
       "[139 rows x 10 columns]"
      ]
     },
     "execution_count": 9,
     "metadata": {},
     "output_type": "execute_result"
    }
   ],
   "source": [
    "# Rename life as y\n",
    "data.rename(columns={\"life\":\"y\"})"
   ]
  },
  {
   "cell_type": "code",
   "execution_count": 10,
   "id": "8c123580",
   "metadata": {},
   "outputs": [
    {
     "name": "stdout",
     "output_type": "stream",
     "text": [
      "     population     x   HIV        CO2  BMI_male      GDP  BMI_female     y  \\\n",
      "0    34811059.0  2.73   0.1   3.328945  24.59620  12314.0    129.9049  75.3   \n",
      "1    19842251.0  6.43   2.0   1.474353  22.25083   7103.0    130.1247  58.3   \n",
      "2    40381860.0  2.24   0.5   4.785170  27.50170  14646.0    118.8915  75.5   \n",
      "3     2975029.0  1.40   0.1   1.804106  25.35542   7383.0    132.8108  72.5   \n",
      "4    21370348.0  1.96   0.1  18.016313  27.56373  41312.0    117.3755  81.5   \n",
      "..          ...   ...   ...        ...       ...      ...         ...   ...   \n",
      "134   3350832.0  2.11   0.5   2.489764  26.39123  15317.0    124.2604  76.0   \n",
      "135  26952719.0  2.46   0.1   4.476669  25.32054   3733.0    124.3462  68.7   \n",
      "136  86589342.0  1.86   0.4   1.479347  20.91630   4085.0    121.9367  75.4   \n",
      "137  13114579.0  5.88  13.6   0.148982  20.68321   3039.0    132.4493  52.0   \n",
      "138  13495462.0  3.85  15.1   0.654323  22.02660   1286.0    131.9745  49.0   \n",
      "\n",
      "     child_mortality                      Region  \n",
      "0               29.5  Middle East & North Africa  \n",
      "1              192.0          Sub-Saharan Africa  \n",
      "2               15.4                     America  \n",
      "3               20.0       Europe & Central Asia  \n",
      "4                5.2         East Asia & Pacific  \n",
      "..               ...                         ...  \n",
      "134             13.0                     America  \n",
      "135             49.2       Europe & Central Asia  \n",
      "136             26.2         East Asia & Pacific  \n",
      "137             94.9          Sub-Saharan Africa  \n",
      "138             98.3          Sub-Saharan Africa  \n",
      "\n",
      "[139 rows x 10 columns]\n"
     ]
    }
   ],
   "source": [
    "# Rename the input variable as X\n",
    "df=data.rename(columns={\"fertility\":\"x\", \"life\":\"y\"})\n",
    "print(df)"
   ]
  },
  {
   "cell_type": "code",
   "execution_count": 11,
   "id": "334d3398",
   "metadata": {},
   "outputs": [
    {
     "name": "stdout",
     "output_type": "stream",
     "text": [
      "The shape of the target variable is : (139,)\n"
     ]
    }
   ],
   "source": [
    "# Check the shape of y\n",
    "print(\"The shape of the target variable is :\", df[\"y\"].shape)\n",
    "\n",
    "\n",
    "\n",
    "\n"
   ]
  },
  {
   "cell_type": "code",
   "execution_count": 12,
   "id": "2cf4d6df",
   "metadata": {},
   "outputs": [
    {
     "name": "stdout",
     "output_type": "stream",
     "text": [
      "The shape of the input variable is : (139,)\n"
     ]
    }
   ],
   "source": [
    "# Check the shape of X\n",
    "print(\"The shape of the input variable is :\" , df[\"x\"].shape)"
   ]
  },
  {
   "cell_type": "markdown",
   "id": "86c71285",
   "metadata": {},
   "source": [
    "As we have seen in the lecture, we have to reshape a 1D array into a 2D array using reshape() function "
   ]
  },
  {
   "cell_type": "code",
   "execution_count": 13,
   "id": "8df228a0",
   "metadata": {},
   "outputs": [],
   "source": [
    "# reshape the target variable y\n",
    "y_reshaped=np.array(df[\"y\"]).reshape(-1,1)\n"
   ]
  },
  {
   "cell_type": "code",
   "execution_count": 14,
   "id": "cc7a55b2",
   "metadata": {},
   "outputs": [],
   "source": [
    "# reshape the input variable X\n",
    "x_reshaped=np.array(df[\"x\"]).reshape(-1,1)\n"
   ]
  },
  {
   "cell_type": "code",
   "execution_count": 15,
   "id": "1c4195cf",
   "metadata": {},
   "outputs": [
    {
     "data": {
      "text/plain": [
       "(139, 1)"
      ]
     },
     "execution_count": 15,
     "metadata": {},
     "output_type": "execute_result"
    }
   ],
   "source": [
    "# print the new shape y\n",
    "y_reshaped.shape"
   ]
  },
  {
   "cell_type": "code",
   "execution_count": 16,
   "id": "53863bd8",
   "metadata": {},
   "outputs": [
    {
     "data": {
      "text/plain": [
       "(139, 1)"
      ]
     },
     "execution_count": 16,
     "metadata": {},
     "output_type": "execute_result"
    }
   ],
   "source": [
    "# print the new shape of X\n",
    "x_reshaped.shape"
   ]
  },
  {
   "cell_type": "markdown",
   "id": "8cf526ff",
   "metadata": {},
   "source": [
    "### Plotting\n",
    "\n",
    "Plot a scatter plot of the variables life and fertility."
   ]
  },
  {
   "cell_type": "code",
   "execution_count": 17,
   "id": "ef8b0569",
   "metadata": {},
   "outputs": [
    {
     "data": {
      "image/png": "[encoded data removed]",
      "text/plain": [
       "<Figure size 720x576 with 1 Axes>"
      ]
     },
     "metadata": {},
     "output_type": "display_data"
    }
   ],
   "source": [
    "# plot scatter plot \n",
    "plt.scatter(x_reshaped,y_reshaped, color=\"blue\", alpha=0.5)\n",
    "plt.xlabel(\"Fertility\")\n",
    "plt.ylabel(\"Life\")\n",
    "plt.show()"
   ]
  },
  {
   "cell_type": "markdown",
   "id": "6d468ca0",
   "metadata": {},
   "source": [
    "Ovely a fitted line on the plot using `lmplot` from seaborn package. "
   ]
  },
  {
   "cell_type": "code",
   "execution_count": 18,
   "id": "3736ae41",
   "metadata": {},
   "outputs": [
    {
     "data": {
      "text/plain": [
       "<seaborn.axisgrid.FacetGrid at 0x2760158e400>"
      ]
     },
     "execution_count": 18,
     "metadata": {},
     "output_type": "execute_result"
    },
    {
     "data": {
      "image/png": "[encoded data removed]",
      "text/plain": [
       "<Figure size 360x360 with 1 Axes>"
      ]
     },
     "metadata": {},
     "output_type": "display_data"
    }
   ],
   "source": [
    "# plot linear regression plot.\n",
    "sns.lmplot(x=\"x\", y=\"y\", data=df)"
   ]
  },
  {
   "cell_type": "markdown",
   "id": "b3b04475",
   "metadata": {},
   "source": [
    "### Building a  Linear Regression Model\n",
    "\n",
    "1. Import LinearRegression from sklearn\n",
    "2. Create an lm object\n",
    "3. Fit the model\n",
    "4. Print the model parameters\n",
    "5. Print the score of the model\n",
    "6. predict on the same data"
   ]
  },
  {
   "cell_type": "code",
   "execution_count": 19,
   "id": "e7bc2800",
   "metadata": {},
   "outputs": [],
   "source": [
    "# Import LinearRegression() from sklearn.linear_model\n",
    "from sklearn import linear_model"
   ]
  },
  {
   "cell_type": "code",
   "execution_count": 20,
   "id": "87ee6418",
   "metadata": {},
   "outputs": [
    {
     "data": {
      "text/plain": [
       "sklearn.linear_model._base.LinearRegression"
      ]
     },
     "execution_count": 20,
     "metadata": {},
     "output_type": "execute_result"
    }
   ],
   "source": [
    "# Create lm object\n",
    "simple_reg=linear_model.LinearRegression()\n",
    "type(simple_reg)"
   ]
  },
  {
   "cell_type": "code",
   "execution_count": 23,
   "id": "da53d454",
   "metadata": {},
   "outputs": [],
   "source": [
    "# Check help file of fit function\n",
    "simple_reg.fit?"
   ]
  },
  {
   "cell_type": "code",
   "execution_count": 24,
   "id": "2490ee49",
   "metadata": {},
   "outputs": [
    {
     "data": {
      "text/plain": [
       "LinearRegression()"
      ]
     },
     "execution_count": 24,
     "metadata": {},
     "output_type": "execute_result"
    }
   ],
   "source": [
    "# fit the linear model\n",
    "simple_reg.fit(x_reshaped, y_reshaped)"
   ]
  },
  {
   "cell_type": "code",
   "execution_count": 25,
   "id": "9bcbc4c9",
   "metadata": {},
   "outputs": [
    {
     "name": "stdout",
     "output_type": "stream",
     "text": [
      "The model intercept is:  [82.95721362]\n"
     ]
    }
   ],
   "source": [
    "# Print the intercept \n",
    "print(\"The model intercept is: \", simple_reg.intercept_)"
   ]
  },
  {
   "cell_type": "code",
   "execution_count": 26,
   "id": "567d40e2",
   "metadata": {},
   "outputs": [
    {
     "name": "stdout",
     "output_type": "stream",
     "text": [
      "The model parameter is:  [[-4.44387899]]\n"
     ]
    }
   ],
   "source": [
    "# Print the coef \n",
    "print(\"The model parameter is: \", simple_reg.coef_)"
   ]
  },
  {
   "cell_type": "code",
   "execution_count": 27,
   "id": "7872d528",
   "metadata": {},
   "outputs": [
    {
     "name": "stdout",
     "output_type": "stream",
     "text": [
      "The coefficient of determination is: 0.619 \n"
     ]
    }
   ],
   "source": [
    "# Print the Godness-of-fit metric \n",
    "simple_reg.score(x_reshaped,y_reshaped)\n",
    "print(\"The coefficient of determination is: {:0.3f} \".format(simple_reg.score(x_reshaped, y_reshaped)))"
   ]
  },
  {
   "cell_type": "code",
   "execution_count": 28,
   "id": "ab3ca2ac",
   "metadata": {},
   "outputs": [],
   "source": [
    "# Predict on the data\n",
    "y_pred=simple_reg.predict(x_reshaped)"
   ]
  },
  {
   "cell_type": "code",
   "execution_count": 29,
   "id": "4a6dd776",
   "metadata": {},
   "outputs": [
    {
     "data": {
      "image/png": "[encoded data removed]",
      "text/plain": [
       "<Figure size 720x576 with 1 Axes>"
      ]
     },
     "metadata": {},
     "output_type": "display_data"
    }
   ],
   "source": [
    "# Plot the fitted line on top of the scatter plot\n",
    "plt.scatter(x_reshaped,y_reshaped,color=\"blue\", alpha=0.5)\n",
    "plt.plot(x_reshaped, y_pred, color=\"red\", linewidth=3)\n",
    "plt.show()"
   ]
  }
 ],
 "metadata": {
  "kernelspec": {
   "display_name": "Python 3",
   "language": "python",
   "name": "python3"
  },
  "language_info": {
   "codemirror_mode": {
    "name": "ipython",
    "version": 3
   },
   "file_extension": ".py",
   "mimetype": "text/x-python",
   "name": "python",
   "nbconvert_exporter": "python",
   "pygments_lexer": "ipython3",
   "version": "3.8.8"
  }
 },
 "nbformat": 4,
 "nbformat_minor": 5
}
